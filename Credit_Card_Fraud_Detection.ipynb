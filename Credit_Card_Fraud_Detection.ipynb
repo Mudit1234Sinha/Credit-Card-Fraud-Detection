{
  "nbformat": 4,
  "nbformat_minor": 0,
  "metadata": {
    "kernelspec": {
      "name": "python3",
      "display_name": "Python 3"
    },
    "language_info": {
      "codemirror_mode": {
        "name": "ipython",
        "version": 3
      },
      "file_extension": ".py",
      "mimetype": "text/x-python",
      "name": "python",
      "nbconvert_exporter": "python",
      "pygments_lexer": "ipython3",
      "version": "3.6.8"
    },
    "colab": {
      "name": " Credit_Card_Fraud_Detection.ipynb",
      "provenance": [],
      "collapsed_sections": [],
      "include_colab_link": true
    }
  },
  "cells": [
    {
      "cell_type": "markdown",
      "metadata": {
        "id": "view-in-github",
        "colab_type": "text"
      },
      "source": [
        "<a href=\"https://colab.research.google.com/github/Mudit1234Sinha/Credit-Card-Fraud-Detection/blob/main/Credit_Card_Fraud_Detection.ipynb\" target=\"_parent\"><img src=\"https://colab.research.google.com/assets/colab-badge.svg\" alt=\"Open In Colab\"/></a>"
      ]
    },
    {
      "cell_type": "code",
      "metadata": {
        "id": "fPIVi6aGgvb0"
      },
      "source": [
        "import pandas as pd\n",
        "import numpy as np\n",
        "import matplotlib.pyplot as plt\n",
        "import seaborn as sns\n",
        "from sklearn.model_selection import train_test_split\n",
        "from sklearn.preprocessing import StandardScaler\n",
        "from tensorflow.keras.models import Sequential, load_model\n",
        "from tensorflow.keras.layers import Dense\n",
        "from tensorflow.keras.callbacks import ModelCheckpoint\n",
        "from sklearn.metrics import confusion_matrix"
      ],
      "execution_count": null,
      "outputs": []
    },
    {
      "cell_type": "code",
      "metadata": {
        "id": "VSEi4bFBgvb8",
        "colab": {
          "base_uri": "https://localhost:8080/"
        },
        "outputId": "899794a0-962c-4e27-e483-0fe3105478bd"
      },
      "source": [
        "data = pd.read_csv(\"creditcard.zip\")\n",
        "data = data.head(30000)\n",
        "data.shape"
      ],
      "execution_count": null,
      "outputs": [
        {
          "output_type": "execute_result",
          "data": {
            "text/plain": [
              "(30000, 31)"
            ]
          },
          "metadata": {},
          "execution_count": 2
        }
      ]
    },
    {
      "cell_type": "code",
      "metadata": {
        "id": "zh-HZs3Gv5c2",
        "colab": {
          "base_uri": "https://localhost:8080/",
          "height": 224
        },
        "outputId": "20720959-0ecc-4bb1-e3c1-6e5be10e410b"
      },
      "source": [
        "data.head()"
      ],
      "execution_count": null,
      "outputs": [
        {
          "output_type": "execute_result",
          "data": {
            "text/html": [
              "<div>\n",
              "<style scoped>\n",
              "    .dataframe tbody tr th:only-of-type {\n",
              "        vertical-align: middle;\n",
              "    }\n",
              "\n",
              "    .dataframe tbody tr th {\n",
              "        vertical-align: top;\n",
              "    }\n",
              "\n",
              "    .dataframe thead th {\n",
              "        text-align: right;\n",
              "    }\n",
              "</style>\n",
              "<table border=\"1\" class=\"dataframe\">\n",
              "  <thead>\n",
              "    <tr style=\"text-align: right;\">\n",
              "      <th></th>\n",
              "      <th>Time</th>\n",
              "      <th>V1</th>\n",
              "      <th>V2</th>\n",
              "      <th>V3</th>\n",
              "      <th>V4</th>\n",
              "      <th>V5</th>\n",
              "      <th>V6</th>\n",
              "      <th>V7</th>\n",
              "      <th>V8</th>\n",
              "      <th>V9</th>\n",
              "      <th>V10</th>\n",
              "      <th>V11</th>\n",
              "      <th>V12</th>\n",
              "      <th>V13</th>\n",
              "      <th>V14</th>\n",
              "      <th>V15</th>\n",
              "      <th>V16</th>\n",
              "      <th>V17</th>\n",
              "      <th>V18</th>\n",
              "      <th>V19</th>\n",
              "      <th>V20</th>\n",
              "      <th>V21</th>\n",
              "      <th>V22</th>\n",
              "      <th>V23</th>\n",
              "      <th>V24</th>\n",
              "      <th>V25</th>\n",
              "      <th>V26</th>\n",
              "      <th>V27</th>\n",
              "      <th>V28</th>\n",
              "      <th>Amount</th>\n",
              "      <th>Class</th>\n",
              "    </tr>\n",
              "  </thead>\n",
              "  <tbody>\n",
              "    <tr>\n",
              "      <th>0</th>\n",
              "      <td>0.0</td>\n",
              "      <td>-1.359807</td>\n",
              "      <td>-0.072781</td>\n",
              "      <td>2.536347</td>\n",
              "      <td>1.378155</td>\n",
              "      <td>-0.338321</td>\n",
              "      <td>0.462388</td>\n",
              "      <td>0.239599</td>\n",
              "      <td>0.098698</td>\n",
              "      <td>0.363787</td>\n",
              "      <td>0.090794</td>\n",
              "      <td>-0.551600</td>\n",
              "      <td>-0.617801</td>\n",
              "      <td>-0.991390</td>\n",
              "      <td>-0.311169</td>\n",
              "      <td>1.468177</td>\n",
              "      <td>-0.470401</td>\n",
              "      <td>0.207971</td>\n",
              "      <td>0.025791</td>\n",
              "      <td>0.403993</td>\n",
              "      <td>0.251412</td>\n",
              "      <td>-0.018307</td>\n",
              "      <td>0.277838</td>\n",
              "      <td>-0.110474</td>\n",
              "      <td>0.066928</td>\n",
              "      <td>0.128539</td>\n",
              "      <td>-0.189115</td>\n",
              "      <td>0.133558</td>\n",
              "      <td>-0.021053</td>\n",
              "      <td>149.62</td>\n",
              "      <td>0</td>\n",
              "    </tr>\n",
              "    <tr>\n",
              "      <th>1</th>\n",
              "      <td>0.0</td>\n",
              "      <td>1.191857</td>\n",
              "      <td>0.266151</td>\n",
              "      <td>0.166480</td>\n",
              "      <td>0.448154</td>\n",
              "      <td>0.060018</td>\n",
              "      <td>-0.082361</td>\n",
              "      <td>-0.078803</td>\n",
              "      <td>0.085102</td>\n",
              "      <td>-0.255425</td>\n",
              "      <td>-0.166974</td>\n",
              "      <td>1.612727</td>\n",
              "      <td>1.065235</td>\n",
              "      <td>0.489095</td>\n",
              "      <td>-0.143772</td>\n",
              "      <td>0.635558</td>\n",
              "      <td>0.463917</td>\n",
              "      <td>-0.114805</td>\n",
              "      <td>-0.183361</td>\n",
              "      <td>-0.145783</td>\n",
              "      <td>-0.069083</td>\n",
              "      <td>-0.225775</td>\n",
              "      <td>-0.638672</td>\n",
              "      <td>0.101288</td>\n",
              "      <td>-0.339846</td>\n",
              "      <td>0.167170</td>\n",
              "      <td>0.125895</td>\n",
              "      <td>-0.008983</td>\n",
              "      <td>0.014724</td>\n",
              "      <td>2.69</td>\n",
              "      <td>0</td>\n",
              "    </tr>\n",
              "    <tr>\n",
              "      <th>2</th>\n",
              "      <td>1.0</td>\n",
              "      <td>-1.358354</td>\n",
              "      <td>-1.340163</td>\n",
              "      <td>1.773209</td>\n",
              "      <td>0.379780</td>\n",
              "      <td>-0.503198</td>\n",
              "      <td>1.800499</td>\n",
              "      <td>0.791461</td>\n",
              "      <td>0.247676</td>\n",
              "      <td>-1.514654</td>\n",
              "      <td>0.207643</td>\n",
              "      <td>0.624501</td>\n",
              "      <td>0.066084</td>\n",
              "      <td>0.717293</td>\n",
              "      <td>-0.165946</td>\n",
              "      <td>2.345865</td>\n",
              "      <td>-2.890083</td>\n",
              "      <td>1.109969</td>\n",
              "      <td>-0.121359</td>\n",
              "      <td>-2.261857</td>\n",
              "      <td>0.524980</td>\n",
              "      <td>0.247998</td>\n",
              "      <td>0.771679</td>\n",
              "      <td>0.909412</td>\n",
              "      <td>-0.689281</td>\n",
              "      <td>-0.327642</td>\n",
              "      <td>-0.139097</td>\n",
              "      <td>-0.055353</td>\n",
              "      <td>-0.059752</td>\n",
              "      <td>378.66</td>\n",
              "      <td>0</td>\n",
              "    </tr>\n",
              "    <tr>\n",
              "      <th>3</th>\n",
              "      <td>1.0</td>\n",
              "      <td>-0.966272</td>\n",
              "      <td>-0.185226</td>\n",
              "      <td>1.792993</td>\n",
              "      <td>-0.863291</td>\n",
              "      <td>-0.010309</td>\n",
              "      <td>1.247203</td>\n",
              "      <td>0.237609</td>\n",
              "      <td>0.377436</td>\n",
              "      <td>-1.387024</td>\n",
              "      <td>-0.054952</td>\n",
              "      <td>-0.226487</td>\n",
              "      <td>0.178228</td>\n",
              "      <td>0.507757</td>\n",
              "      <td>-0.287924</td>\n",
              "      <td>-0.631418</td>\n",
              "      <td>-1.059647</td>\n",
              "      <td>-0.684093</td>\n",
              "      <td>1.965775</td>\n",
              "      <td>-1.232622</td>\n",
              "      <td>-0.208038</td>\n",
              "      <td>-0.108300</td>\n",
              "      <td>0.005274</td>\n",
              "      <td>-0.190321</td>\n",
              "      <td>-1.175575</td>\n",
              "      <td>0.647376</td>\n",
              "      <td>-0.221929</td>\n",
              "      <td>0.062723</td>\n",
              "      <td>0.061458</td>\n",
              "      <td>123.50</td>\n",
              "      <td>0</td>\n",
              "    </tr>\n",
              "    <tr>\n",
              "      <th>4</th>\n",
              "      <td>2.0</td>\n",
              "      <td>-1.158233</td>\n",
              "      <td>0.877737</td>\n",
              "      <td>1.548718</td>\n",
              "      <td>0.403034</td>\n",
              "      <td>-0.407193</td>\n",
              "      <td>0.095921</td>\n",
              "      <td>0.592941</td>\n",
              "      <td>-0.270533</td>\n",
              "      <td>0.817739</td>\n",
              "      <td>0.753074</td>\n",
              "      <td>-0.822843</td>\n",
              "      <td>0.538196</td>\n",
              "      <td>1.345852</td>\n",
              "      <td>-1.119670</td>\n",
              "      <td>0.175121</td>\n",
              "      <td>-0.451449</td>\n",
              "      <td>-0.237033</td>\n",
              "      <td>-0.038195</td>\n",
              "      <td>0.803487</td>\n",
              "      <td>0.408542</td>\n",
              "      <td>-0.009431</td>\n",
              "      <td>0.798278</td>\n",
              "      <td>-0.137458</td>\n",
              "      <td>0.141267</td>\n",
              "      <td>-0.206010</td>\n",
              "      <td>0.502292</td>\n",
              "      <td>0.219422</td>\n",
              "      <td>0.215153</td>\n",
              "      <td>69.99</td>\n",
              "      <td>0</td>\n",
              "    </tr>\n",
              "  </tbody>\n",
              "</table>\n",
              "</div>"
            ],
            "text/plain": [
              "   Time        V1        V2        V3  ...       V27       V28  Amount  Class\n",
              "0   0.0 -1.359807 -0.072781  2.536347  ...  0.133558 -0.021053  149.62      0\n",
              "1   0.0  1.191857  0.266151  0.166480  ... -0.008983  0.014724    2.69      0\n",
              "2   1.0 -1.358354 -1.340163  1.773209  ... -0.055353 -0.059752  378.66      0\n",
              "3   1.0 -0.966272 -0.185226  1.792993  ...  0.062723  0.061458  123.50      0\n",
              "4   2.0 -1.158233  0.877737  1.548718  ...  0.219422  0.215153   69.99      0\n",
              "\n",
              "[5 rows x 31 columns]"
            ]
          },
          "metadata": {},
          "execution_count": 3
        }
      ]
    },
    {
      "cell_type": "code",
      "metadata": {
        "id": "CDDQ22kt81nt",
        "colab": {
          "base_uri": "https://localhost:8080/",
          "height": 162
        },
        "outputId": "3ba60be3-d720-4dc2-8f7c-a4e3db15d05e"
      },
      "source": [
        "data.groupby(['Class']).count()"
      ],
      "execution_count": null,
      "outputs": [
        {
          "output_type": "execute_result",
          "data": {
            "text/html": [
              "<div>\n",
              "<style scoped>\n",
              "    .dataframe tbody tr th:only-of-type {\n",
              "        vertical-align: middle;\n",
              "    }\n",
              "\n",
              "    .dataframe tbody tr th {\n",
              "        vertical-align: top;\n",
              "    }\n",
              "\n",
              "    .dataframe thead th {\n",
              "        text-align: right;\n",
              "    }\n",
              "</style>\n",
              "<table border=\"1\" class=\"dataframe\">\n",
              "  <thead>\n",
              "    <tr style=\"text-align: right;\">\n",
              "      <th></th>\n",
              "      <th>Time</th>\n",
              "      <th>V1</th>\n",
              "      <th>V2</th>\n",
              "      <th>V3</th>\n",
              "      <th>V4</th>\n",
              "      <th>V5</th>\n",
              "      <th>V6</th>\n",
              "      <th>V7</th>\n",
              "      <th>V8</th>\n",
              "      <th>V9</th>\n",
              "      <th>V10</th>\n",
              "      <th>V11</th>\n",
              "      <th>V12</th>\n",
              "      <th>V13</th>\n",
              "      <th>V14</th>\n",
              "      <th>V15</th>\n",
              "      <th>V16</th>\n",
              "      <th>V17</th>\n",
              "      <th>V18</th>\n",
              "      <th>V19</th>\n",
              "      <th>V20</th>\n",
              "      <th>V21</th>\n",
              "      <th>V22</th>\n",
              "      <th>V23</th>\n",
              "      <th>V24</th>\n",
              "      <th>V25</th>\n",
              "      <th>V26</th>\n",
              "      <th>V27</th>\n",
              "      <th>V28</th>\n",
              "      <th>Amount</th>\n",
              "    </tr>\n",
              "    <tr>\n",
              "      <th>Class</th>\n",
              "      <th></th>\n",
              "      <th></th>\n",
              "      <th></th>\n",
              "      <th></th>\n",
              "      <th></th>\n",
              "      <th></th>\n",
              "      <th></th>\n",
              "      <th></th>\n",
              "      <th></th>\n",
              "      <th></th>\n",
              "      <th></th>\n",
              "      <th></th>\n",
              "      <th></th>\n",
              "      <th></th>\n",
              "      <th></th>\n",
              "      <th></th>\n",
              "      <th></th>\n",
              "      <th></th>\n",
              "      <th></th>\n",
              "      <th></th>\n",
              "      <th></th>\n",
              "      <th></th>\n",
              "      <th></th>\n",
              "      <th></th>\n",
              "      <th></th>\n",
              "      <th></th>\n",
              "      <th></th>\n",
              "      <th></th>\n",
              "      <th></th>\n",
              "      <th></th>\n",
              "    </tr>\n",
              "  </thead>\n",
              "  <tbody>\n",
              "    <tr>\n",
              "      <th>0</th>\n",
              "      <td>29906</td>\n",
              "      <td>29906</td>\n",
              "      <td>29906</td>\n",
              "      <td>29906</td>\n",
              "      <td>29906</td>\n",
              "      <td>29906</td>\n",
              "      <td>29906</td>\n",
              "      <td>29906</td>\n",
              "      <td>29906</td>\n",
              "      <td>29906</td>\n",
              "      <td>29906</td>\n",
              "      <td>29906</td>\n",
              "      <td>29906</td>\n",
              "      <td>29906</td>\n",
              "      <td>29906</td>\n",
              "      <td>29906</td>\n",
              "      <td>29906</td>\n",
              "      <td>29906</td>\n",
              "      <td>29906</td>\n",
              "      <td>29906</td>\n",
              "      <td>29906</td>\n",
              "      <td>29906</td>\n",
              "      <td>29906</td>\n",
              "      <td>29906</td>\n",
              "      <td>29906</td>\n",
              "      <td>29906</td>\n",
              "      <td>29906</td>\n",
              "      <td>29906</td>\n",
              "      <td>29906</td>\n",
              "      <td>29906</td>\n",
              "    </tr>\n",
              "    <tr>\n",
              "      <th>1</th>\n",
              "      <td>94</td>\n",
              "      <td>94</td>\n",
              "      <td>94</td>\n",
              "      <td>94</td>\n",
              "      <td>94</td>\n",
              "      <td>94</td>\n",
              "      <td>94</td>\n",
              "      <td>94</td>\n",
              "      <td>94</td>\n",
              "      <td>94</td>\n",
              "      <td>94</td>\n",
              "      <td>94</td>\n",
              "      <td>94</td>\n",
              "      <td>94</td>\n",
              "      <td>94</td>\n",
              "      <td>94</td>\n",
              "      <td>94</td>\n",
              "      <td>94</td>\n",
              "      <td>94</td>\n",
              "      <td>94</td>\n",
              "      <td>94</td>\n",
              "      <td>94</td>\n",
              "      <td>94</td>\n",
              "      <td>94</td>\n",
              "      <td>94</td>\n",
              "      <td>94</td>\n",
              "      <td>94</td>\n",
              "      <td>94</td>\n",
              "      <td>94</td>\n",
              "      <td>94</td>\n",
              "    </tr>\n",
              "  </tbody>\n",
              "</table>\n",
              "</div>"
            ],
            "text/plain": [
              "        Time     V1     V2     V3     V4  ...    V25    V26    V27    V28  Amount\n",
              "Class                                     ...                                    \n",
              "0      29906  29906  29906  29906  29906  ...  29906  29906  29906  29906   29906\n",
              "1         94     94     94     94     94  ...     94     94     94     94      94\n",
              "\n",
              "[2 rows x 30 columns]"
            ]
          },
          "metadata": {},
          "execution_count": 4
        }
      ]
    },
    {
      "cell_type": "code",
      "metadata": {
        "id": "JB_FNz-4gvcE"
      },
      "source": [
        "data = data.drop(['Time'], axis=1)\n",
        "data['Amount'] = StandardScaler().fit_transform(data['Amount'].values.reshape(-1, 1))"
      ],
      "execution_count": null,
      "outputs": []
    },
    {
      "cell_type": "code",
      "metadata": {
        "id": "3VhZZRvwgvcG",
        "colab": {
          "base_uri": "https://localhost:8080/"
        },
        "outputId": "875b5032-19d7-4f39-ae64-23b0615ca8ec"
      },
      "source": [
        "X_train, X_test = train_test_split(data, test_size=0.2, random_state=0)\n",
        "X_train = X_train.drop(['Class'], axis=1)\n",
        "y_test = X_test['Class']\n",
        "X_test = X_test.drop(['Class'], axis=1)\n",
        "X_train = X_train.values\n",
        "X_test = X_test.values\n",
        "X_train.shape"
      ],
      "execution_count": null,
      "outputs": [
        {
          "output_type": "execute_result",
          "data": {
            "text/plain": [
              "(24000, 29)"
            ]
          },
          "metadata": {},
          "execution_count": 6
        }
      ]
    },
    {
      "cell_type": "code",
      "metadata": {
        "id": "rDTwKbXqln-T",
        "colab": {
          "base_uri": "https://localhost:8080/"
        },
        "outputId": "b7c67407-0fb2-41b2-a4c8-efd319aa66b8"
      },
      "source": [
        "input_dim = X_train.shape[1]\n",
        "encoding_dim = 14\n",
        "\n",
        "model = Sequential()\n",
        "model.add(Dense(encoding_dim, activation=\"tanh\", input_shape=(input_dim,)))\n",
        "model.add(Dense(int(encoding_dim / 2), activation=\"relu\"))\n",
        "model.add(Dense(int(encoding_dim / 2), activation='tanh'))\n",
        "model.add(Dense(input_dim, activation='relu'))\n",
        "\n",
        "model.summary()"
      ],
      "execution_count": null,
      "outputs": [
        {
          "output_type": "stream",
          "name": "stdout",
          "text": [
            "Model: \"sequential\"\n",
            "_________________________________________________________________\n",
            "Layer (type)                 Output Shape              Param #   \n",
            "=================================================================\n",
            "dense (Dense)                (None, 14)                420       \n",
            "_________________________________________________________________\n",
            "dense_1 (Dense)              (None, 7)                 105       \n",
            "_________________________________________________________________\n",
            "dense_2 (Dense)              (None, 7)                 56        \n",
            "_________________________________________________________________\n",
            "dense_3 (Dense)              (None, 29)                232       \n",
            "=================================================================\n",
            "Total params: 813\n",
            "Trainable params: 813\n",
            "Non-trainable params: 0\n",
            "_________________________________________________________________\n"
          ]
        }
      ]
    },
    {
      "cell_type": "code",
      "metadata": {
        "id": "sw64M6v7gvcN",
        "colab": {
          "base_uri": "https://localhost:8080/"
        },
        "outputId": "78197af7-c734-42ee-945d-634d379066e6"
      },
      "source": [
        "nb_epoch = 40\n",
        "batch_size = 32\n",
        "\n",
        "model.compile(optimizer='adam', loss='mean_squared_error', metrics=['acc'])\n",
        "\n",
        "history = model.fit(X_train, X_train,\n",
        "                    epochs=nb_epoch,\n",
        "                    batch_size=batch_size,\n",
        "                    validation_data=(X_test, X_test),\n",
        "                    verbose=1)\n",
        "\n",
        "autoencoder = model"
      ],
      "execution_count": null,
      "outputs": [
        {
          "output_type": "stream",
          "name": "stdout",
          "text": [
            "Epoch 1/40\n",
            "750/750 [==============================] - 2s 2ms/step - loss: 1.1123 - acc: 0.3689 - val_loss: 0.9772 - val_acc: 0.4760\n",
            "Epoch 2/40\n",
            "750/750 [==============================] - 1s 1ms/step - loss: 1.0114 - acc: 0.5217 - val_loss: 0.9345 - val_acc: 0.5542\n",
            "Epoch 3/40\n",
            "750/750 [==============================] - 1s 1ms/step - loss: 0.9733 - acc: 0.5933 - val_loss: 0.8975 - val_acc: 0.6155\n",
            "Epoch 4/40\n",
            "750/750 [==============================] - 1s 1ms/step - loss: 0.9388 - acc: 0.6337 - val_loss: 0.8763 - val_acc: 0.6403\n",
            "Epoch 5/40\n",
            "750/750 [==============================] - 1s 1ms/step - loss: 0.9223 - acc: 0.6480 - val_loss: 0.8636 - val_acc: 0.6547\n",
            "Epoch 6/40\n",
            "750/750 [==============================] - 1s 1ms/step - loss: 0.9109 - acc: 0.6548 - val_loss: 0.8548 - val_acc: 0.6477\n",
            "Epoch 7/40\n",
            "750/750 [==============================] - 1s 1ms/step - loss: 0.9041 - acc: 0.6565 - val_loss: 0.8492 - val_acc: 0.6650\n",
            "Epoch 8/40\n",
            "750/750 [==============================] - 1s 1ms/step - loss: 0.8992 - acc: 0.6593 - val_loss: 0.8456 - val_acc: 0.6568\n",
            "Epoch 9/40\n",
            "750/750 [==============================] - 1s 1ms/step - loss: 0.8950 - acc: 0.6607 - val_loss: 0.8414 - val_acc: 0.6642\n",
            "Epoch 10/40\n",
            "750/750 [==============================] - 1s 1ms/step - loss: 0.8913 - acc: 0.6622 - val_loss: 0.8375 - val_acc: 0.6608\n",
            "Epoch 11/40\n",
            "750/750 [==============================] - 1s 1ms/step - loss: 0.8883 - acc: 0.6649 - val_loss: 0.8356 - val_acc: 0.6630\n",
            "Epoch 12/40\n",
            "750/750 [==============================] - 1s 1ms/step - loss: 0.8854 - acc: 0.6640 - val_loss: 0.8329 - val_acc: 0.6648\n",
            "Epoch 13/40\n",
            "750/750 [==============================] - 1s 1ms/step - loss: 0.8832 - acc: 0.6668 - val_loss: 0.8304 - val_acc: 0.6702\n",
            "Epoch 14/40\n",
            "750/750 [==============================] - 1s 1ms/step - loss: 0.8810 - acc: 0.6716 - val_loss: 0.8277 - val_acc: 0.6792\n",
            "Epoch 15/40\n",
            "750/750 [==============================] - 1s 1ms/step - loss: 0.8794 - acc: 0.6749 - val_loss: 0.8257 - val_acc: 0.6780\n",
            "Epoch 16/40\n",
            "750/750 [==============================] - 1s 1ms/step - loss: 0.8773 - acc: 0.6790 - val_loss: 0.8246 - val_acc: 0.6732\n",
            "Epoch 17/40\n",
            "750/750 [==============================] - 1s 1ms/step - loss: 0.8759 - acc: 0.6811 - val_loss: 0.8228 - val_acc: 0.6830\n",
            "Epoch 18/40\n",
            "750/750 [==============================] - 1s 1ms/step - loss: 0.8746 - acc: 0.6841 - val_loss: 0.8217 - val_acc: 0.6793\n",
            "Epoch 19/40\n",
            "750/750 [==============================] - 1s 1ms/step - loss: 0.8732 - acc: 0.6870 - val_loss: 0.8206 - val_acc: 0.6880\n",
            "Epoch 20/40\n",
            "750/750 [==============================] - 1s 1ms/step - loss: 0.8718 - acc: 0.6877 - val_loss: 0.8198 - val_acc: 0.6798\n",
            "Epoch 21/40\n",
            "750/750 [==============================] - 1s 1ms/step - loss: 0.8710 - acc: 0.6899 - val_loss: 0.8183 - val_acc: 0.6918\n",
            "Epoch 22/40\n",
            "750/750 [==============================] - 1s 1ms/step - loss: 0.8700 - acc: 0.6900 - val_loss: 0.8179 - val_acc: 0.6862\n",
            "Epoch 23/40\n",
            "750/750 [==============================] - 1s 1ms/step - loss: 0.8693 - acc: 0.6918 - val_loss: 0.8170 - val_acc: 0.6933\n",
            "Epoch 24/40\n",
            "750/750 [==============================] - 1s 1ms/step - loss: 0.8689 - acc: 0.6916 - val_loss: 0.8176 - val_acc: 0.6898\n",
            "Epoch 25/40\n",
            "750/750 [==============================] - 1s 1ms/step - loss: 0.8680 - acc: 0.6905 - val_loss: 0.8155 - val_acc: 0.6943\n",
            "Epoch 26/40\n",
            "750/750 [==============================] - 1s 1ms/step - loss: 0.8671 - acc: 0.6939 - val_loss: 0.8162 - val_acc: 0.6950\n",
            "Epoch 27/40\n",
            "750/750 [==============================] - 1s 1ms/step - loss: 0.8668 - acc: 0.6968 - val_loss: 0.8153 - val_acc: 0.6990\n",
            "Epoch 28/40\n",
            "750/750 [==============================] - 1s 1ms/step - loss: 0.8664 - acc: 0.6972 - val_loss: 0.8138 - val_acc: 0.6925\n",
            "Epoch 29/40\n",
            "750/750 [==============================] - 1s 1ms/step - loss: 0.8654 - acc: 0.6967 - val_loss: 0.8145 - val_acc: 0.6807\n",
            "Epoch 30/40\n",
            "750/750 [==============================] - 1s 1ms/step - loss: 0.8651 - acc: 0.6967 - val_loss: 0.8125 - val_acc: 0.6932\n",
            "Epoch 31/40\n",
            "750/750 [==============================] - 1s 1ms/step - loss: 0.8641 - acc: 0.6972 - val_loss: 0.8127 - val_acc: 0.6965\n",
            "Epoch 32/40\n",
            "750/750 [==============================] - 1s 1ms/step - loss: 0.8619 - acc: 0.6989 - val_loss: 0.8100 - val_acc: 0.7018\n",
            "Epoch 33/40\n",
            "750/750 [==============================] - 1s 1ms/step - loss: 0.8602 - acc: 0.6996 - val_loss: 0.8096 - val_acc: 0.7010\n",
            "Epoch 34/40\n",
            "750/750 [==============================] - 1s 2ms/step - loss: 0.8598 - acc: 0.6992 - val_loss: 0.8087 - val_acc: 0.7007\n",
            "Epoch 35/40\n",
            "750/750 [==============================] - 1s 1ms/step - loss: 0.8583 - acc: 0.6999 - val_loss: 0.8096 - val_acc: 0.6998\n",
            "Epoch 36/40\n",
            "750/750 [==============================] - 1s 1ms/step - loss: 0.8574 - acc: 0.6978 - val_loss: 0.8073 - val_acc: 0.6975\n",
            "Epoch 37/40\n",
            "750/750 [==============================] - 1s 1ms/step - loss: 0.8566 - acc: 0.6995 - val_loss: 0.8061 - val_acc: 0.6988\n",
            "Epoch 38/40\n",
            "750/750 [==============================] - 1s 1ms/step - loss: 0.8558 - acc: 0.6998 - val_loss: 0.8064 - val_acc: 0.7010\n",
            "Epoch 39/40\n",
            "750/750 [==============================] - 1s 1ms/step - loss: 0.8551 - acc: 0.7017 - val_loss: 0.8056 - val_acc: 0.6943\n",
            "Epoch 40/40\n",
            "750/750 [==============================] - 1s 1ms/step - loss: 0.8551 - acc: 0.6987 - val_loss: 0.8062 - val_acc: 0.6943\n"
          ]
        }
      ]
    },
    {
      "cell_type": "code",
      "metadata": {
        "id": "KU1Y1-12gvcQ",
        "colab": {
          "base_uri": "https://localhost:8080/",
          "height": 295
        },
        "outputId": "b462c857-37aa-43df-c8c2-3537fe250526"
      },
      "source": [
        "# summarize history for accuracy\n",
        "plt.plot(history.history['acc'])\n",
        "plt.plot(history.history['val_acc'])\n",
        "plt.title('Model accuracy')\n",
        "plt.ylabel('Accuracy')\n",
        "plt.xlabel('Epoch')\n",
        "plt.legend(['Train', 'Test'], loc='upper left')\n",
        "plt.show()"
      ],
      "execution_count": null,
      "outputs": [
        {
          "output_type": "display_data",
          "data": {
            "image/png": "[encoded data removed]",
            "text/plain": [
              "<Figure size 432x288 with 1 Axes>"
            ]
          },
          "metadata": {
            "needs_background": "light"
          }
        }
      ]
    },
    {
      "cell_type": "code",
      "metadata": {
        "id": "pedvVXtngvcU"
      },
      "source": [
        "predictions = autoencoder.predict(X_test)\n",
        "mse = np.mean(np.power(X_test - predictions, 2), axis=1)\n",
        "error_df = pd.DataFrame({'reconstruction_error': mse, 'true_class': y_test})"
      ],
      "execution_count": null,
      "outputs": []
    },
    {
      "cell_type": "code",
      "metadata": {
        "id": "lVXgySCoNb-O",
        "colab": {
          "base_uri": "https://localhost:8080/",
          "height": 204
        },
        "outputId": "314e9d9d-8dff-491e-b5c3-0f53d6d3382b"
      },
      "source": [
        "error_df.head()"
      ],
      "execution_count": null,
      "outputs": [
        {
          "output_type": "execute_result",
          "data": {
            "text/html": [
              "<div>\n",
              "<style scoped>\n",
              "    .dataframe tbody tr th:only-of-type {\n",
              "        vertical-align: middle;\n",
              "    }\n",
              "\n",
              "    .dataframe tbody tr th {\n",
              "        vertical-align: top;\n",
              "    }\n",
              "\n",
              "    .dataframe thead th {\n",
              "        text-align: right;\n",
              "    }\n",
              "</style>\n",
              "<table border=\"1\" class=\"dataframe\">\n",
              "  <thead>\n",
              "    <tr style=\"text-align: right;\">\n",
              "      <th></th>\n",
              "      <th>reconstruction_error</th>\n",
              "      <th>true_class</th>\n",
              "    </tr>\n",
              "  </thead>\n",
              "  <tbody>\n",
              "    <tr>\n",
              "      <th>8225</th>\n",
              "      <td>0.330530</td>\n",
              "      <td>0</td>\n",
              "    </tr>\n",
              "    <tr>\n",
              "      <th>10794</th>\n",
              "      <td>0.877227</td>\n",
              "      <td>0</td>\n",
              "    </tr>\n",
              "    <tr>\n",
              "      <th>9163</th>\n",
              "      <td>0.321064</td>\n",
              "      <td>0</td>\n",
              "    </tr>\n",
              "    <tr>\n",
              "      <th>26591</th>\n",
              "      <td>0.141922</td>\n",
              "      <td>0</td>\n",
              "    </tr>\n",
              "    <tr>\n",
              "      <th>6631</th>\n",
              "      <td>0.407777</td>\n",
              "      <td>0</td>\n",
              "    </tr>\n",
              "  </tbody>\n",
              "</table>\n",
              "</div>"
            ],
            "text/plain": [
              "       reconstruction_error  true_class\n",
              "8225               0.330530           0\n",
              "10794              0.877227           0\n",
              "9163               0.321064           0\n",
              "26591              0.141922           0\n",
              "6631               0.407777           0"
            ]
          },
          "metadata": {},
          "execution_count": 11
        }
      ]
    },
    {
      "cell_type": "code",
      "metadata": {
        "id": "O3TXPKJIgvcX",
        "colab": {
          "base_uri": "https://localhost:8080/",
          "height": 513
        },
        "outputId": "f88c63d3-9f0e-4ca0-acab-2f5e87918bff"
      },
      "source": [
        "threshold = 6.0\n",
        "\n",
        "groups = error_df.groupby('true_class')\n",
        "fig, ax = plt.subplots(figsize=(12, 8))\n",
        "\n",
        "for name, group in groups:\n",
        "    ax.plot(group.index, group.reconstruction_error, marker='o', ms=2.0, linestyle='',\n",
        "            label = \"Fraud\" if name == 1 else \"Normal\",\n",
        "            color = \"red\" if name == 1 else \"blue\")\n",
        "ax.hlines(threshold, ax.get_xlim()[0], ax.get_xlim()[1], colors=\"green\", zorder=100, label='Threshold')\n",
        "ax.legend()\n",
        "plt.title(\"Reconstruction error for different classes\")\n",
        "plt.ylabel(\"Reconstruction error\")\n",
        "plt.xlabel(\"Data point index\")\n",
        "plt.show();"
      ],
      "execution_count": null,
      "outputs": [
        {
          "output_type": "display_data",
          "data": {
            "image/png": "[encoded data removed]",
            "text/plain": [
              "<Figure size 864x576 with 1 Axes>"
            ]
          },
          "metadata": {
            "needs_background": "light"
          }
        }
      ]
    },
    {
      "cell_type": "code",
      "metadata": {
        "id": "YcYrqCvrgvce",
        "colab": {
          "base_uri": "https://localhost:8080/"
        },
        "outputId": "558fd578-55be-4f73-b6a7-3829030557a3"
      },
      "source": [
        "normal = error_df[error_df.true_class == 0]\n",
        "fraud = error_df[error_df.true_class == 1]\n",
        "\n",
        "print('Normal transactions: %d, fraud transactions: %d' % (len(normal), len(fraud)))"
      ],
      "execution_count": null,
      "outputs": [
        {
          "output_type": "stream",
          "name": "stdout",
          "text": [
            "Normal transactions: 5984, fraud transactions: 16\n"
          ]
        }
      ]
    },
    {
      "cell_type": "code",
      "metadata": {
        "id": "1ySewU_gsZBZ",
        "colab": {
          "base_uri": "https://localhost:8080/"
        },
        "outputId": "3b1ef61f-a1a3-4932-da48-ab8bc81c18bf"
      },
      "source": [
        "true_positives = len(fraud[fraud.reconstruction_error >= threshold])\n",
        "false_positives = len(normal[normal.reconstruction_error >= threshold])\n",
        "\n",
        "true_negatives = len(normal[normal.reconstruction_error < threshold])\n",
        "false_negatives = len(fraud[fraud.reconstruction_error < threshold])\n",
        "\n",
        "print('True positives: %d, true negatives: %d' % (true_positives, true_negatives))\n",
        "print('False positives: %d, false negatives: %d' % (false_positives, false_negatives))"
      ],
      "execution_count": null,
      "outputs": [
        {
          "output_type": "stream",
          "name": "stdout",
          "text": [
            "True positives: 12, true negatives: 5907\n",
            "False positives: 77, false negatives: 4\n"
          ]
        }
      ]
    },
    {
      "cell_type": "code",
      "metadata": {
        "id": "zb_Azs0Xgvcb",
        "colab": {
          "base_uri": "https://localhost:8080/",
          "height": 350
        },
        "outputId": "0e5384f8-cd4d-46f0-8d69-1d9d48a59f3b"
      },
      "source": [
        "labels = [\"Normal\", \"Fraud\"]\n",
        "\n",
        "y_pred = [1 if e > threshold else 0 for e in error_df.reconstruction_error.values]\n",
        "conf_matrix = confusion_matrix(error_df.true_class, y_pred)\n",
        "\n",
        "plt.figure(figsize=(6, 5))\n",
        "sns.heatmap(conf_matrix, xticklabels=labels, yticklabels=labels, annot=True, fmt=\"d\");\n",
        "plt.title(\"Confusion matrix\")\n",
        "plt.ylabel('True class')\n",
        "plt.xlabel('Predicted class')\n",
        "plt.show()"
      ],
      "execution_count": null,
      "outputs": [
        {
          "output_type": "display_data",
          "data": {
            "image/png": "[encoded data removed]",
            "text/plain": [
              "<Figure size 432x360 with 2 Axes>"
            ]
          },
          "metadata": {
            "needs_background": "light"
          }
        }
      ]
    }
  ]
}